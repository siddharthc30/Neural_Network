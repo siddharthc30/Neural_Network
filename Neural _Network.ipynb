{
 "cells": [
  {
   "cell_type": "code",
   "execution_count": 6,
   "metadata": {},
   "outputs": [],
   "source": [
    "import numpy as np"
   ]
  },
  {
   "cell_type": "code",
   "execution_count": 7,
   "metadata": {},
   "outputs": [],
   "source": [
    "x=np.array(([3,5],[5,1],[10,2]), dtype=float )\n",
    "y=np.array(([75],[82],[93]) ,dtype=float )\n"
   ]
  },
  {
   "cell_type": "code",
   "execution_count": 8,
   "metadata": {},
   "outputs": [],
   "source": [
    "#scaling data\n",
    "X=x/np.amax(x,axis=0)\n",
    "Y=y/100"
   ]
  },
  {
   "cell_type": "code",
   "execution_count": 48,
   "metadata": {},
   "outputs": [],
   "source": [
    "class Neural_Network(object):\n",
    "    def  __init__(self):\n",
    "        #defining hyperparameters\n",
    "        self.inputlayersize=2\n",
    "        self.outputlayersize=1\n",
    "        self.hiddenlayersize=3\n",
    "        \n",
    "        #weights (number = 2 because the network is a three layered network)\n",
    "        \n",
    "        self.w1=np.random.randn(self.inputlayersize, self.hiddenlayersize)\n",
    "        self.w2=np.random.randn(self.hiddenlayersize, self.outputlayersize)\n",
    "    def forward(self,x):\n",
    "        #forward propagation\n",
    "         self.z2 = np.dot(x,self.w1)\n",
    "         self.a2=self.sigmoid(self.z2)\n",
    "         self.z3=np.dot(self.a2,self.w2)\n",
    "         predy=self.sigmoid(self.z3)\n",
    "         return predy\n",
    "        \n",
    "    def sigmoid(self,z):\n",
    "        return 1/(1+np.exp(-z))\n",
    "    \n",
    "    def sigmoidprime(self,z):\n",
    "        return np.exp(-z)/((1+np.exp(-z))**2)\n",
    "        \n",
    "    def costFunctionPrime(self,X,Y):\n",
    "    #computing the derivative of the cost function\n",
    "        self.predy=self.forward(X)\n",
    "        delta3=np.multiply(-(Y-self.predy),self.sigmoidprime(self.z3))\n",
    "        djdw2=np.dot(self.a2.T,delta3)\n",
    "        \n",
    "        delta2=np.dot(delta3,self.w2.T)*(self.sigmoidprime(self.z2))\n",
    "        djdw1=np.dot(X.T,delta2)\n",
    "        return djdw1,djdw2\n",
    "        \n",
    "    \n",
    "    \n",
    "        \n",
    "        \n",
    "        "
   ]
  },
  {
   "cell_type": "code",
   "execution_count": 49,
   "metadata": {},
   "outputs": [],
   "source": [
    "NN = Neural_Network()\n",
    "predy=NN.forward(x)"
   ]
  },
  {
   "cell_type": "code",
   "execution_count": 50,
   "metadata": {},
   "outputs": [
    {
     "data": {
      "text/plain": [
       "array([[0.88362698],\n",
       "       [0.88777827],\n",
       "       [0.88927564]])"
      ]
     },
     "execution_count": 50,
     "metadata": {},
     "output_type": "execute_result"
    }
   ],
   "source": [
    "predy"
   ]
  },
  {
   "cell_type": "code",
   "execution_count": 51,
   "metadata": {},
   "outputs": [
    {
     "data": {
      "text/plain": [
       "array([[0.75],\n",
       "       [0.82],\n",
       "       [0.93]])"
      ]
     },
     "execution_count": 51,
     "metadata": {},
     "output_type": "execute_result"
    }
   ],
   "source": [
    "Y"
   ]
  },
  {
   "cell_type": "code",
   "execution_count": 52,
   "metadata": {},
   "outputs": [],
   "source": [
    "cost1=NN.costFunctionPrime(X,Y)"
   ]
  },
  {
   "cell_type": "code",
   "execution_count": 57,
   "metadata": {},
   "outputs": [],
   "source": [
    "djdw1 , djdw2 = NN.costFunctionPrime(X,Y)"
   ]
  },
  {
   "cell_type": "code",
   "execution_count": 58,
   "metadata": {},
   "outputs": [
    {
     "data": {
      "text/plain": [
       "array([[-0.00063943, -0.00058897, -0.00063325],\n",
       "       [ 0.00091121,  0.00280964,  0.00091138]])"
      ]
     },
     "execution_count": 58,
     "metadata": {},
     "output_type": "execute_result"
    }
   ],
   "source": [
    "djdw1"
   ]
  },
  {
   "cell_type": "code",
   "execution_count": 59,
   "metadata": {},
   "outputs": [
    {
     "data": {
      "text/plain": [
       "array([[ 0.00104963],\n",
       "       [-0.00017195],\n",
       "       [ 0.0014094 ]])"
      ]
     },
     "execution_count": 59,
     "metadata": {},
     "output_type": "execute_result"
    }
   ],
   "source": [
    "djdw2"
   ]
  },
  {
   "cell_type": "code",
   "execution_count": null,
   "metadata": {},
   "outputs": [],
   "source": [
    "scalar =2\n",
    "NN.w1=NN.w1-scalar*djdw1\n",
    "NN.w2=NN.w2-scalar*djdw2"
   ]
  }
 ],
 "metadata": {
  "kernelspec": {
   "display_name": "Python 3",
   "language": "python",
   "name": "python3"
  },
  "language_info": {
   "codemirror_mode": {
    "name": "ipython",
    "version": 3
   },
   "file_extension": ".py",
   "mimetype": "text/x-python",
   "name": "python",
   "nbconvert_exporter": "python",
   "pygments_lexer": "ipython3",
   "version": "3.7.4"
  }
 },
 "nbformat": 4,
 "nbformat_minor": 2
}
